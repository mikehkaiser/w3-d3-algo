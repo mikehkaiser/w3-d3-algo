{
 "cells": [
  {
   "cell_type": "markdown",
   "metadata": {},
   "source": [
    "# Intro to Algorithms, Binary Search"
   ]
  },
  {
   "cell_type": "markdown",
   "metadata": {},
   "source": [
    "## Tasks Today:\n",
    " \n",
    "1) <b>In-Place Algorithms</b> <br>\n",
    " &nbsp;&nbsp;&nbsp;&nbsp; a) Syntax <br>\n",
    " &nbsp;&nbsp;&nbsp;&nbsp; a) Out of Place Algorithm <br>\n",
    " &nbsp;&nbsp;&nbsp;&nbsp; b) In-Class Exercise #1 <br>\n",
    "2) <b>Two Pointers</b> <br>\n",
    "3) <b>Sorting Algorithms</b> <br>\n",
    " &nbsp;&nbsp;&nbsp;&nbsp; a) Videos on Algorithms (Watch later) <br>\n",
    " &nbsp;&nbsp;&nbsp;&nbsp; b) Bubble Sort <br>\n",
    " &nbsp;&nbsp;&nbsp;&nbsp; c) Insertion Sort <br>\n",
    " &nbsp;&nbsp;&nbsp;&nbsp; d) Merge Sort <br>\n",
    "4) <b>Binary Search Algorithm</b> <br>\n",
    "5) <b>Exercises</b> <br>\n",
    " &nbsp;&nbsp;&nbsp;&nbsp; a) Exercise #1 - Reverse a List in Place Using an In-Place Algorithm <br>\n",
    " &nbsp;&nbsp;&nbsp;&nbsp; b) Exercise #2 - Find Distinct Words <br>\n",
    " &nbsp;&nbsp;&nbsp;&nbsp; c) Exercise #3 - Write a program to implement a Linear Search Algorithm. <br>"
   ]
  },
  {
   "cell_type": "markdown",
   "metadata": {},
   "source": [
    "An algorithm is a set of instructions. It's an elegant/efficient way to get to a solution\n",
    "compared to a \"standard\" function"
   ]
  },
  {
   "cell_type": "markdown",
   "metadata": {},
   "source": [
    "## In-Place Algorithms"
   ]
  },
  {
   "cell_type": "markdown",
   "metadata": {},
   "source": [
    "#### Syntax"
   ]
  },
  {
   "cell_type": "code",
   "execution_count": 4,
   "metadata": {},
   "outputs": [
    {
     "name": "stdout",
     "output_type": "stream",
     "text": [
      "[1, 2, 3, 4, 5]\n",
      "[5, 4, 3, 2, 1]\n",
      "[1, 2, 3, 4, 5]\n"
     ]
    }
   ],
   "source": [
    "a_list = [5, 4, 3, 2, 1]\n",
    "\n",
    "print(sorted(a_list)) # sorted creates a copy, does not affect original\n",
    "print(a_list)\n",
    "\n",
    "#sort changes the actual list in memory\n",
    "a_list.sort()\n",
    "print(a_list)\n",
    "\n",
    "#since it changes the actual list, sort is called an \"in-place\" algorithm"
   ]
  },
  {
   "cell_type": "code",
   "execution_count": 12,
   "metadata": {},
   "outputs": [
    {
     "data": {
      "text/plain": [
       "[10, 4, 20]"
      ]
     },
     "execution_count": 12,
     "metadata": {},
     "output_type": "execute_result"
    }
   ],
   "source": [
    "#swap alrogithm\n",
    "#var[i], var[i+1] = var[i+1],var[i]\n",
    "\n",
    "# list_1 = [20, 4, 10]\n",
    "# list_1[0], list_1[1] = list_1[1], list_1[0]\n",
    "\n",
    "# list_1\n",
    "\n",
    "#### in a function\n",
    "\n",
    "list_2 = [20, 4, 10]\n",
    "def swap(l_1, x, y, z):\n",
    "    l_1[x], l_1[y], l_1[z] = l_1[z], l_1[y], l_1[x]\n",
    "    return l_1\n",
    "\n",
    "swap(list_2, 0, 1, 2)\n"
   ]
  },
  {
   "cell_type": "code",
   "execution_count": null,
   "metadata": {},
   "outputs": [],
   "source": []
  },
  {
   "cell_type": "markdown",
   "metadata": {},
   "source": [
    "#### Out of Place Algorithm"
   ]
  },
  {
   "cell_type": "markdown",
   "metadata": {},
   "source": [
    "Any time you're working with an object without changing the original object\n",
    "or the original position in memory"
   ]
  },
  {
   "cell_type": "code",
   "execution_count": 33,
   "metadata": {},
   "outputs": [
    {
     "name": "stdout",
     "output_type": "stream",
     "text": [
      "[8, 7, 6, 5, 4, 3, 2, 1]\n",
      "[1, 2, 3, 4, 5, 6, 7, 8]\n",
      "[8, 7, 6, 5, 4, 3, 2, 1]\n",
      "[1, 2, 3, 4, 5, 6, 7, 8]\n"
     ]
    }
   ],
   "source": [
    "#not swapping in place - this takes a new slot in memory\n",
    "my_list = [1, 2, 3, 4, 5, 6, 7, 8]\n",
    "\n",
    "my_list_copy = my_list[::-1]\n",
    "print(my_list_copy)\n",
    "print(my_list)\n",
    "\n",
    "my_new_copy = ['','','','','','','','']\n",
    "\n",
    "for i in range(len(my_list)):\n",
    "    my_new_copy[i] = my_list[(len(my_list)-1)-i]\n",
    "    \n",
    "print(my_new_copy)\n",
    "print(my_list)\n"
   ]
  },
  {
   "cell_type": "markdown",
   "metadata": {},
   "source": [
    "#### In-Class Exercise #1 <br>\n",
    "<p>Write a function that takes in four arguments (list, index1, index2, index3), and swaps those three positions in the list passed in.</p>"
   ]
  },
  {
   "cell_type": "code",
   "execution_count": 27,
   "metadata": {},
   "outputs": [
    {
     "name": "stdout",
     "output_type": "stream",
     "text": [
      "Before swap: [10, 4, 3, 8, 4, 2, 6]\n",
      "After swap: [8, 4, 3, 6, 4, 2, 10]\n"
     ]
    },
    {
     "data": {
      "text/plain": [
       "[8, 4, 3, 6, 4, 2, 10]"
      ]
     },
     "execution_count": 27,
     "metadata": {},
     "output_type": "execute_result"
    }
   ],
   "source": [
    "nums = [10, 4, 3, 8, 4, 2, 6]\n",
    "\n",
    "def swapNums(a_list, x, y, z):\n",
    "    a_list[x], a_list[y], a_list[z] = a_list[y], a_list[z], a_list[x]\n",
    "    return a_list\n",
    "\n",
    "print(f'Before swap: {nums}')\n",
    "swapNums(nums, 0, 3, 6)\n",
    "print(f'After swap: {nums}')\n",
    "nums"
   ]
  },
  {
   "cell_type": "markdown",
   "metadata": {},
   "source": [
    "## Two Pointers"
   ]
  },
  {
   "cell_type": "markdown",
   "metadata": {},
   "source": [
    "#### Syntax"
   ]
  },
  {
   "cell_type": "code",
   "execution_count": 32,
   "metadata": {},
   "outputs": [
    {
     "data": {
      "text/plain": [
       "['Lady Madonna',\n",
       " 'Eleanor Rigby',\n",
       " 'Walrus',\n",
       " 'Max',\n",
       " 'Sadie',\n",
       " 'Ringo',\n",
       " 'George',\n",
       " 'Paul',\n",
       " 'John']"
      ]
     },
     "execution_count": 32,
     "metadata": {},
     "output_type": "execute_result"
    }
   ],
   "source": [
    "#alist[i], alist[j] = alist[j], alist[i]\n",
    "# two pointers are typically inside a while loop\n",
    "\n",
    "beatles = ['John', 'Paul', 'George', 'Ringo','Sadie','Max','Walrus', 'Eleanor Rigby', 'Lady Madonna']\n",
    "\n",
    "def reverseList(alist):\n",
    "    #creating 2 pointers\n",
    "    start = 0\n",
    "    end = len(alist)-1\n",
    "    while start < end: #as long as the start index is smaller than the end index, keep going\n",
    "        alist[start], alist[end] = alist[end], alist[start]\n",
    "        start += 1 #need the incrementation or it will run forever, because your index numbers won't change\n",
    "        end -= 1\n",
    "    return alist\n",
    "\n",
    "reverseList(beatles)\n",
    "        "
   ]
  },
  {
   "cell_type": "markdown",
   "metadata": {},
   "source": [
    "#### Video of Algorithms <br>\n",
    "<p>Watch the video about algorithms.</p>\n",
    "\n",
    "https://www.youtube.com/watch?v=Q9HjeFD62Uk\n",
    "\n",
    "https://www.youtube.com/watch?v=kPRA0W1kECg\n",
    "\n",
    "https://www.youtube.com/watch?v=ZZuD6iUe3Pc"
   ]
  },
  {
   "cell_type": "markdown",
   "metadata": {},
   "source": [
    "# Sorting Algorithms"
   ]
  },
  {
   "cell_type": "markdown",
   "metadata": {},
   "source": [
    "#### Bubble Sort\n",
    "\n",
    "Worst Case: O(n^2) Time - O(1) Space"
   ]
  },
  {
   "cell_type": "code",
   "execution_count": 36,
   "metadata": {},
   "outputs": [
    {
     "data": {
      "text/plain": [
       "[0, 4, 6, 13, 16, 28]"
      ]
     },
     "execution_count": 36,
     "metadata": {},
     "output_type": "execute_result"
    }
   ],
   "source": [
    "#helper function to use later\n",
    "def swap(i, j, array):\n",
    "    array[i], array[j] = array[j], array[i]\n",
    "\n",
    "#not the most efficient sort method, since it has to start over \n",
    "#at the beginning of the array every iteration\n",
    "def bubbleSort(array):\n",
    "    isSorted = False #sets an initial flag\n",
    "    while not isSorted:\n",
    "        isSorted = True #break out of loop when array is sorted\n",
    "        for num in range(len(array)-1):\n",
    "            if array[num] > array[num+1]:\n",
    "                swap(num, num+1, array)\n",
    "                isSorted = False\n",
    "    return array\n",
    "    \n",
    "some_list = [16, 28, 4, 6, 0, 13]\n",
    "bubbleSort(some_list)    \n",
    "    "
   ]
  },
  {
   "cell_type": "markdown",
   "metadata": {},
   "source": [
    "##### Insertion Sort\n",
    "\n",
    "Worst Case: O(n^2) time - O(1)space"
   ]
  },
  {
   "cell_type": "code",
   "execution_count": 38,
   "metadata": {},
   "outputs": [
    {
     "data": {
      "text/plain": [
       "[0, 4, 6, 13, 16, 28]"
      ]
     },
     "execution_count": 38,
     "metadata": {},
     "output_type": "execute_result"
    }
   ],
   "source": [
    "def swap(i, j, array):\n",
    "    array[i], array[j] = array[j], array[i]\n",
    "    \n",
    "def insertionSort(array):\n",
    "    for i in range(1, len(array)):\n",
    "        j = i\n",
    "        while j > 0 and array[j] < array[j-1]:\n",
    "            swap(j, (j-1), array)\n",
    "            j -= 1\n",
    "    return array\n",
    "\n",
    "another_list = [16, 28, 4, 6, 0, 13]\n",
    "insertionSort(another_list)"
   ]
  },
  {
   "cell_type": "markdown",
   "metadata": {},
   "source": [
    "## Merge Sort"
   ]
  },
  {
   "cell_type": "markdown",
   "metadata": {},
   "source": [
    "#### How it Works"
   ]
  },
  {
   "cell_type": "code",
   "execution_count": 43,
   "metadata": {},
   "outputs": [
    {
     "name": "stdout",
     "output_type": "stream",
     "text": [
      "Splitting... [15, 4, 18, 13, 7]\n",
      "Splitting... [15, 4]\n",
      "Splitting... [15]\n",
      "Merging.... [15]\n",
      "Splitting... [4]\n",
      "Merging.... [4]\n",
      "Merging.... [4, 15]\n",
      "Splitting... [18, 13, 7]\n",
      "Splitting... [18]\n",
      "Merging.... [18]\n",
      "Splitting... [13, 7]\n",
      "Splitting... [13]\n",
      "Merging.... [13]\n",
      "Splitting... [7]\n",
      "Merging.... [7]\n",
      "Merging.... [7, 13]\n",
      "Merging.... [7, 13, 18]\n",
      "Merging.... [4, 7, 13, 15, 18]\n"
     ]
    },
    {
     "data": {
      "text/plain": [
       "[4, 7, 13, 15, 18]"
      ]
     },
     "execution_count": 43,
     "metadata": {},
     "output_type": "execute_result"
    }
   ],
   "source": [
    "# Step 1: Split everything into its own group\n",
    "# Step 2: from l to r merge the groups\n",
    "# Step 3: place each item in correct sorted order as merge happens\n",
    "# Step 4: repeat steps 1-3 until we are done!\n",
    "\n",
    "from random import randint\n",
    "#used to generate a list of random integers\n",
    "nums = [randint(0,20) for i in range(5)]\n",
    "\n",
    "# Merge Sort\n",
    "\n",
    "def mergeSort(alist):\n",
    "    print('Splitting...', alist)\n",
    "    \n",
    "    #Step 1: divide the array into equal parts as many times as possible\n",
    "    if len(alist) > 1:\n",
    "        mid = len(alist) // 2\n",
    "        lefthalf = alist[:mid]\n",
    "        righthalf = alist[mid:]\n",
    "        \n",
    "        #recursively call this mergeSort on splits until all have len == 1\n",
    "        mergeSort(lefthalf)\n",
    "        mergeSort(righthalf)\n",
    "        \n",
    "        # index pointers for our list\n",
    "        i = 0 # pointer for left half\n",
    "        j = 0 # pointer for right half\n",
    "        k = 0 # pointer for main array or original list\n",
    "        \n",
    "        # Step 2: compare left and right halves\n",
    "        while i < len(lefthalf) and j < len(righthalf):\n",
    "            if lefthalf[i] < righthalf[j]:\n",
    "                alist[k] = lefthalf[i]\n",
    "                i += 1\n",
    "            else:\n",
    "                alist[k] = righthalf[j]\n",
    "                j += 1\n",
    "            k += 1\n",
    "        \n",
    "        # Step 3: Merging back together\n",
    "        while i < len(lefthalf):\n",
    "            alist[k] = lefthalf[i]\n",
    "            i += 1\n",
    "            k += 1\n",
    "            \n",
    "        while j < len(righthalf):\n",
    "            alist[k] = righthalf[j]\n",
    "            j += 1\n",
    "            k += 1\n",
    "    print(\"Merging....\", alist)\n",
    "    return alist\n",
    "\n",
    "mergeSort(nums)"
   ]
  },
  {
   "cell_type": "code",
   "execution_count": null,
   "metadata": {},
   "outputs": [],
   "source": [
    "[12, 18, 18, 12, 12]"
   ]
  },
  {
   "cell_type": "markdown",
   "metadata": {},
   "source": [
    "# Binary Search\n",
    "\n",
    "The Binary Search algorithm works by finding the number in the middle of a given array and comparing it to the target. Given that the array is sorted\n",
    "\n",
    "* The worst case run time for this algorithm is `O(log(n))`"
   ]
  },
  {
   "cell_type": "code",
   "execution_count": null,
   "metadata": {},
   "outputs": [],
   "source": [
    "# left = less\n",
    "# right = greater\n",
    "# LIST MUST BE SORTED\n",
    "\n",
    "def binSearchHelper(array, target, left, right):\n",
    "    while left <= right:\n",
    "        middle = (left + right) // 2\n",
    "        potential_match = array[middle]\n",
    "        if target == potential_match:\n",
    "            return f'The index is {middle}.'\n",
    "        elif target < potential_match:\n",
    "            right = middle - 1\n",
    "        else target > potential_match:\n",
    "            left = middle + 1\n",
    "    return f'There is no value of {target} stored here...'\n",
    "\n",
    "f binarySearch(array, target):\n",
    "    return binSearchHelper(array, target, 0, len(array))"
   ]
  },
  {
   "cell_type": "markdown",
   "metadata": {},
   "source": [
    "# Exercises"
   ]
  },
  {
   "cell_type": "markdown",
   "metadata": {},
   "source": [
    "### Exercise #1 <br>\n",
    "<p>Reverse the list below in-place using an in-place algorithm.<br>For extra credit: Reverse the strings at the same time.</p>"
   ]
  },
  {
   "cell_type": "code",
   "execution_count": 110,
   "metadata": {},
   "outputs": [
    {
     "name": "stdout",
     "output_type": "stream",
     "text": [
      "['.', 'sentence', 'a', 'is', 'this']\n",
      "['siht', 'si', 'a', 'ecnetnes', '.']\n"
     ]
    }
   ],
   "source": [
    "words = ['this' , 'is', 'a', 'sentence', '.']\n",
    "\n",
    "\n",
    "def reverseList(alist):\n",
    "    #creating my 2 pointers\n",
    "    start = 0\n",
    "    end = len(alist)-1\n",
    "    while start < end: #as long as the start index is smaller than the end index, keep going\n",
    "        alist[start], alist[end] = alist[end], alist[start]\n",
    "        start += 1 #need the incrementation or it will run forever, because your index numbers won't change\n",
    "        end -= 1\n",
    "    return alist   \n",
    "    \n",
    "#     def reverseObj(alist):\n",
    "#         for obj in alist:\n",
    "#             item = split(obj)\n",
    "#             i = 0\n",
    "#             j = len(item)-1\n",
    "#             while i < j:\n",
    "#                 item[i], item[j] = item[j], item[i]\n",
    "#             i += 1\n",
    "#             j -= 1\n",
    "        \n",
    "#     return alist\n",
    "    \n",
    "    \n",
    "\n",
    "# how to tap into each index, for loop?\n",
    "    \n",
    "reverseList(words)\n",
    "print(words)\n",
    "\n",
    "result = [i[::-1] for i in reverseList(words)]\n",
    "\n",
    "print(result)"
   ]
  },
  {
   "cell_type": "markdown",
   "metadata": {},
   "source": [
    "### Exercise #2 <br>\n",
    "<p>Create a function that counts how many distinct words are in the string below, then outputs a dictionary with the words as the key and the value as the amount of times that word appears in the string.<br>Should output:<br>{'a': 5,<br>\n",
    " 'abstract': 1,<br>\n",
    " 'an': 3,<br>\n",
    " 'array': 2, ... etc...</p>"
   ]
  },
  {
   "cell_type": "code",
   "execution_count": 112,
   "metadata": {},
   "outputs": [
    {
     "name": "stdout",
     "output_type": "stream",
     "text": [
      "['h', 'e', 'l', 'l', 'o']\n"
     ]
    }
   ],
   "source": [
    "a_text = 'In computing, a hash table hash map is a data structure which implements an associative array abstract data type, a structure that can map keys to values. A hash table uses a hash function to compute an index into an array of buckets or slots from which the desired value can be found'\n",
    "\n",
    "# loop over this \n",
    "# add a key value pair with the value being a counter\n",
    "\n",
    "#need an empty dictionary {}\n",
    "count_dict = {}\n",
    "\n",
    "split_list = split(a_text)\n",
    "print(split_list)"
   ]
  },
  {
   "cell_type": "markdown",
   "metadata": {},
   "source": [
    "## Exercise #3\n",
    "\n",
    "Write a program to implement a Linear Search Algorithm.\n",
    "#### Hint: Linear Searching will require searching a list for a given number. "
   ]
  },
  {
   "cell_type": "code",
   "execution_count": null,
   "metadata": {},
   "outputs": [],
   "source": []
  }
 ],
 "metadata": {
  "kernelspec": {
   "display_name": "Python 3",
   "language": "python",
   "name": "python3"
  },
  "language_info": {
   "codemirror_mode": {
    "name": "ipython",
    "version": 3
   },
   "file_extension": ".py",
   "mimetype": "text/x-python",
   "name": "python",
   "nbconvert_exporter": "python",
   "pygments_lexer": "ipython3",
   "version": "3.8.8"
  }
 },
 "nbformat": 4,
 "nbformat_minor": 2
}
