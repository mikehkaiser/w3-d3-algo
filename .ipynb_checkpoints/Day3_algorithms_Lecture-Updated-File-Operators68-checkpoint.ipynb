{
 "cells": [
  {
   "cell_type": "markdown",
   "metadata": {},
   "source": [
    "# Intro to Algorithms, Binary Search"
   ]
  },
  {
   "cell_type": "markdown",
   "metadata": {},
   "source": [
    "## Tasks Today:\n",
    " \n",
    "1) <b>In-Place Algorithms</b> <br>\n",
    " &nbsp;&nbsp;&nbsp;&nbsp; a) Syntax <br>\n",
    " &nbsp;&nbsp;&nbsp;&nbsp; a) Out of Place Algorithm <br>\n",
    " &nbsp;&nbsp;&nbsp;&nbsp; b) In-Class Exercise #1 <br>\n",
    "2) <b>Two Pointers</b> <br>\n",
    "3) <b>Sorting Algorithms</b> <br>\n",
    " &nbsp;&nbsp;&nbsp;&nbsp; a) Videos on Algorithms (Watch later) <br>\n",
    " &nbsp;&nbsp;&nbsp;&nbsp; b) Bubble Sort <br>\n",
    " &nbsp;&nbsp;&nbsp;&nbsp; c) Insertion Sort <br>\n",
    " &nbsp;&nbsp;&nbsp;&nbsp; d) Merge Sort <br>\n",
    "4) <b>Binary Search Algorithm</b> <br>\n",
    "5) <b>Exercises</b> <br>\n",
    " &nbsp;&nbsp;&nbsp;&nbsp; a) Exercise #1 - Reverse a List in Place Using an In-Place Algorithm <br>\n",
    " &nbsp;&nbsp;&nbsp;&nbsp; b) Exercise #2 - Find Distinct Words <br>\n",
    " &nbsp;&nbsp;&nbsp;&nbsp; c) Exercise #3 - Write a program to implement a Linear Search Algorithm. <br>"
   ]
  },
  {
   "cell_type": "markdown",
   "metadata": {},
   "source": [
    "An algorithm is a set of instructions. It's an elegant/efficient way to get to a solution\n",
    "compared to a \"standard\" function"
   ]
  },
  {
   "cell_type": "markdown",
   "metadata": {},
   "source": [
    "## In-Place Algorithms"
   ]
  },
  {
   "cell_type": "markdown",
   "metadata": {},
   "source": [
    "#### Syntax"
   ]
  },
  {
   "cell_type": "code",
   "execution_count": null,
   "metadata": {},
   "outputs": [],
   "source": [
    "a_list = [5, 4, 3, 2, 1]\n",
    "\n",
    "print(sorted(a_list)) # sorted creates a copy, does not affect original\n",
    "print(a_list)\n",
    "\n",
    "#sort changes the actual list in memory\n",
    "a_list.sort()\n",
    "print(a_list)\n",
    "\n",
    "#since it changes the actual list, sort is called an \"in-place\" algorithm"
   ]
  },
  {
   "cell_type": "code",
   "execution_count": null,
   "metadata": {},
   "outputs": [],
   "source": [
    "#swap alrogithm\n",
    "#var[i], var[i+1] = var[i+1],var[i]\n",
    "\n",
    "# list_1 = [20, 4, 10]\n",
    "# list_1[0], list_1[1] = list_1[1], list_1[0]\n",
    "\n",
    "# list_1\n",
    "\n",
    "#### in a function\n",
    "\n",
    "list_2 = [20, 4, 10]\n",
    "def swap(l_1, x, y, z):\n",
    "    l_1[x], l_1[y], l_1[z] = l_1[z], l_1[y], l_1[x]\n",
    "    return l_1\n",
    "\n",
    "swap(list_2, 0, 1, 2)\n"
   ]
  },
  {
   "cell_type": "code",
   "execution_count": null,
   "metadata": {},
   "outputs": [],
   "source": []
  },
  {
   "cell_type": "markdown",
   "metadata": {},
   "source": [
    "#### Out of Place Algorithm"
   ]
  },
  {
   "cell_type": "markdown",
   "metadata": {},
   "source": [
    "Any time you're working with an object without changing the original object\n",
    "or the original position in memory"
   ]
  },
  {
   "cell_type": "code",
   "execution_count": null,
   "metadata": {},
   "outputs": [],
   "source": [
    "#not swapping in place - this takes a new slot in memory\n",
    "my_list = [1, 2, 3, 4, 5, 6, 7, 8]\n",
    "\n",
    "my_list_copy = my_list[::-1]\n",
    "print(my_list_copy)\n",
    "print(my_list)\n",
    "\n",
    "my_new_copy = ['','','','','','','','']\n",
    "\n",
    "for i in range(len(my_list)):\n",
    "    my_new_copy[i] = my_list[(len(my_list)-1)-i]\n",
    "    \n",
    "print(my_new_copy)\n",
    "print(my_list)\n"
   ]
  },
  {
   "cell_type": "markdown",
   "metadata": {},
   "source": [
    "#### In-Class Exercise #1 <br>\n",
    "<p>Write a function that takes in four arguments (list, index1, index2, index3), and swaps those three positions in the list passed in.</p>"
   ]
  },
  {
   "cell_type": "code",
   "execution_count": null,
   "metadata": {},
   "outputs": [],
   "source": [
    "nums = [10, 4, 3, 8, 4, 2, 6]\n",
    "\n",
    "def swapNums(a_list, x, y, z):\n",
    "    a_list[x], a_list[y], a_list[z] = a_list[y], a_list[z], a_list[x]\n",
    "    return a_list\n",
    "\n",
    "print(f'Before swap: {nums}')\n",
    "swapNums(nums, 0, 3, 6)\n",
    "print(f'After swap: {nums}')\n",
    "nums"
   ]
  },
  {
   "cell_type": "markdown",
   "metadata": {},
   "source": [
    "## Two Pointers"
   ]
  },
  {
   "cell_type": "markdown",
   "metadata": {},
   "source": [
    "#### Syntax"
   ]
  },
  {
   "cell_type": "code",
   "execution_count": null,
   "metadata": {},
   "outputs": [],
   "source": [
    "#alist[i], alist[j] = alist[j], alist[i]\n",
    "# two pointers are typically inside a while loop\n",
    "\n",
    "beatles = ['John', 'Paul', 'George', 'Ringo','Sadie','Max','Walrus', 'Eleanor Rigby', 'Lady Madonna']\n",
    "\n",
    "def reverseList(alist):\n",
    "    #creating 2 pointers\n",
    "    start = 0\n",
    "    end = len(alist)-1\n",
    "    while start < end: #as long as the start index is smaller than the end index, keep going\n",
    "        alist[start], alist[end] = alist[end], alist[start]\n",
    "        start += 1 #need the incrementation or it will run forever, because your index numbers won't change\n",
    "        end -= 1\n",
    "    return alist\n",
    "\n",
    "reverseList(beatles)\n",
    "        "
   ]
  },
  {
   "cell_type": "markdown",
   "metadata": {},
   "source": [
    "#### Video of Algorithms <br>\n",
    "<p>Watch the video about algorithms.</p>\n",
    "\n",
    "https://www.youtube.com/watch?v=Q9HjeFD62Uk\n",
    "\n",
    "https://www.youtube.com/watch?v=kPRA0W1kECg\n",
    "\n",
    "https://www.youtube.com/watch?v=ZZuD6iUe3Pc"
   ]
  },
  {
   "cell_type": "markdown",
   "metadata": {},
   "source": [
    "# Sorting Algorithms"
   ]
  },
  {
   "cell_type": "markdown",
   "metadata": {},
   "source": [
    "#### Bubble Sort\n",
    "\n",
    "Worst Case: O(n^2) Time - O(1) Space"
   ]
  },
  {
   "cell_type": "code",
   "execution_count": null,
   "metadata": {},
   "outputs": [],
   "source": [
    "#helper function to use later\n",
    "def swap(i, j, array):\n",
    "    array[i], array[j] = array[j], array[i]\n",
    "\n",
    "#not the most efficient sort method, since it has to start over \n",
    "#at the beginning of the array every iteration\n",
    "def bubbleSort(array):\n",
    "    isSorted = False #sets an initial flag\n",
    "    while not isSorted:\n",
    "        isSorted = True #break out of loop when array is sorted\n",
    "        for num in range(len(array)-1):\n",
    "            if array[num] > array[num+1]:\n",
    "                swap(num, num+1, array)\n",
    "                isSorted = False\n",
    "    return array\n",
    "    \n",
    "some_list = [16, 28, 4, 6, 0, 13]\n",
    "bubbleSort(some_list)    \n",
    "    "
   ]
  },
  {
   "cell_type": "markdown",
   "metadata": {},
   "source": [
    "##### Insertion Sort\n",
    "\n",
    "Worst Case: O(n^2) time - O(1)space"
   ]
  },
  {
   "cell_type": "code",
   "execution_count": null,
   "metadata": {},
   "outputs": [],
   "source": [
    "def swap(i, j, array):\n",
    "    array[i], array[j] = array[j], array[i]\n",
    "    \n",
    "def insertionSort(array):\n",
    "    for i in range(1, len(array)):\n",
    "        j = i\n",
    "        while j > 0 and array[j] < array[j-1]:\n",
    "            swap(j, (j-1), array)\n",
    "            j -= 1\n",
    "    return array\n",
    "\n",
    "another_list = [16, 28, 4, 6, 0, 13]\n",
    "insertionSort(another_list)"
   ]
  },
  {
   "cell_type": "markdown",
   "metadata": {},
   "source": [
    "## Merge Sort"
   ]
  },
  {
   "cell_type": "markdown",
   "metadata": {},
   "source": [
    "#### How it Works"
   ]
  },
  {
   "cell_type": "code",
   "execution_count": null,
   "metadata": {},
   "outputs": [],
   "source": [
    "# Step 1: Split everything into its own group\n",
    "# Step 2: from l to r merge the groups\n",
    "# Step 3: place each item in correct sorted order as merge happens\n",
    "# Step 4: repeat steps 1-3 until we are done!\n",
    "\n",
    "from random import randint\n",
    "#used to generate a list of random integers\n",
    "nums = [randint(0,20) for i in range(5)]\n",
    "\n",
    "# Merge Sort\n",
    "\n",
    "def mergeSort(alist):\n",
    "    print('Splitting...', alist)\n",
    "    \n",
    "    #Step 1: divide the array into equal parts as many times as possible\n",
    "    if len(alist) > 1:\n",
    "        mid = len(alist) // 2\n",
    "        lefthalf = alist[:mid]\n",
    "        righthalf = alist[mid:]\n",
    "        \n",
    "        #recursively call this mergeSort on splits until all have len == 1\n",
    "        mergeSort(lefthalf)\n",
    "        mergeSort(righthalf)\n",
    "        \n",
    "        # index pointers for our list\n",
    "        i = 0 # pointer for left half\n",
    "        j = 0 # pointer for right half\n",
    "        k = 0 # pointer for main array or original list\n",
    "        \n",
    "        # Step 2: compare left and right halves\n",
    "        while i < len(lefthalf) and j < len(righthalf):\n",
    "            if lefthalf[i] < righthalf[j]:\n",
    "                alist[k] = lefthalf[i]\n",
    "                i += 1\n",
    "            else:\n",
    "                alist[k] = righthalf[j]\n",
    "                j += 1\n",
    "            k += 1\n",
    "        \n",
    "        # Step 3: Merging back together\n",
    "        while i < len(lefthalf):\n",
    "            alist[k] = lefthalf[i]\n",
    "            i += 1\n",
    "            k += 1\n",
    "            \n",
    "        while j < len(righthalf):\n",
    "            alist[k] = righthalf[j]\n",
    "            j += 1\n",
    "            k += 1\n",
    "    print(\"Merging....\", alist)\n",
    "    return alist\n",
    "\n",
    "mergeSort(nums)"
   ]
  },
  {
   "cell_type": "code",
   "execution_count": null,
   "metadata": {},
   "outputs": [],
   "source": [
    "[12, 18, 18, 12, 12]"
   ]
  },
  {
   "cell_type": "markdown",
   "metadata": {},
   "source": [
    "# Binary Search\n",
    "\n",
    "The Binary Search algorithm works by finding the number in the middle of a given array and comparing it to the target. Given that the array is sorted\n",
    "\n",
    "* The worst case run time for this algorithm is `O(log(n))`"
   ]
  },
  {
   "cell_type": "code",
   "execution_count": null,
   "metadata": {},
   "outputs": [],
   "source": [
    "# left = less\n",
    "# right = greater\n",
    "# LIST MUST BE SORTED\n",
    "\n",
    "def binSearchHelper(array, target, left, right):\n",
    "    while left <= right:\n",
    "        middle = (left + right) // 2\n",
    "        potential_match = array[middle]\n",
    "        if target == potential_match:\n",
    "            return f'The index is {middle}.'\n",
    "        elif target < potential_match:\n",
    "            right = middle - 1\n",
    "        else target > potential_match:\n",
    "            left = middle + 1\n",
    "    return f'There is no value of {target} stored here...'\n",
    "\n",
    "f binarySearch(array, target):\n",
    "    return binSearchHelper(array, target, 0, len(array))"
   ]
  },
  {
   "cell_type": "markdown",
   "metadata": {},
   "source": [
    "# Exercises"
   ]
  },
  {
   "cell_type": "markdown",
   "metadata": {},
   "source": [
    "### Exercise #1 <br>\n",
    "<p>Reverse the list below in-place using an in-place algorithm.<br>For extra credit: Reverse the strings at the same time.</p>"
   ]
  },
  {
   "cell_type": "code",
   "execution_count": 7,
   "metadata": {},
   "outputs": [
    {
     "name": "stdout",
     "output_type": "stream",
     "text": [
      "['.', 'sentence', 'a', 'is', 'this']\n",
      "['.', 'ecnetnes', 'a', 'si', 'siht']\n"
     ]
    }
   ],
   "source": [
    "words = ['this' , 'is', 'a', 'sentence', '.']\n",
    "\n",
    "\n",
    "def reverse_list(a_list):\n",
    "    #creating my 2 pointers\n",
    "    start = 0\n",
    "    end = len(a_list)-1\n",
    "    while start < end: #as long as the start index is smaller than the end index, keep going\n",
    "        a_list[start], a_list[end] = a_list[end], a_list[start]\n",
    "        start += 1 \n",
    "        end -= 1#need the incrementation or it will run forever, because your index numbers won't change\n",
    "    return a_list   \n",
    "   \n",
    "    \n",
    "    \n",
    "    \n",
    "    # this was Jesse's solution, I did not have the range at line 19 or my indexing correct for it to work\n",
    "    # trying to reverse the words within the list by making them a list with .split()\n",
    "#         for i in range(len(a_list[i])):\n",
    "#             a_list[i] = list(a_list[i])\n",
    "#             i = 0\n",
    "#             j = len(a_list[i])-1\n",
    "#             while i < j:\n",
    "#                 a_list[i], a_list[j] = a_list[j], a_list[i]\n",
    "#                 i += 1\n",
    "#                 j -= 1\n",
    "#             a_list[i] = \"\".join(a_list[i])      \n",
    "#         return alist\n",
    "    \n",
    "# Nate's solution\n",
    "# replace my line 9 with a_list[start], a_list[end] = a_list[end][::-1], a_list[start][::-1]\n",
    "\n",
    "# i is each word in the list, [::-1] reverses i \n",
    "# and then having [::-1] at the end reverses the order of the \"i\"'s in the list\n",
    "\n",
    "print(reverse_list(words))\n",
    "\n",
    "doubleReverse = [i[::-1] for i in words]\n",
    "print(doubleReverse)"
   ]
  },
  {
   "cell_type": "markdown",
   "metadata": {},
   "source": [
    "### Exercise #2 <br>\n",
    "<p>Create a function that counts how many distinct words are in the string below, then outputs a dictionary with the words as the key and the value as the amount of times that word appears in the string.<br>Should output:<br>{'a': 5,<br>\n",
    " 'abstract': 1,<br>\n",
    " 'an': 3,<br>\n",
    " 'array': 2, ... etc...</p>"
   ]
  },
  {
   "cell_type": "code",
   "execution_count": 33,
   "metadata": {},
   "outputs": [
    {
     "data": {
      "text/plain": [
       "{'a': 5,\n",
       " 'abstract': 1,\n",
       " 'an': 3,\n",
       " 'array': 2,\n",
       " 'associative': 1,\n",
       " 'be': 1,\n",
       " 'buckets': 1,\n",
       " 'can': 2,\n",
       " 'compute': 1,\n",
       " 'computing': 1,\n",
       " 'data': 2,\n",
       " 'desired': 1,\n",
       " 'found': 1,\n",
       " 'from': 1,\n",
       " 'function': 1,\n",
       " 'hash': 4,\n",
       " 'implements': 1,\n",
       " 'in': 1,\n",
       " 'index': 1,\n",
       " 'into': 1,\n",
       " 'is': 1,\n",
       " 'keys': 1,\n",
       " 'map': 2,\n",
       " 'of': 1,\n",
       " 'or': 1,\n",
       " 'slots': 1,\n",
       " 'structure': 2,\n",
       " 'table': 2,\n",
       " 'that': 1,\n",
       " 'the': 1,\n",
       " 'to': 2,\n",
       " 'type': 1,\n",
       " 'uses': 1,\n",
       " 'value': 1,\n",
       " 'values.': 1,\n",
       " 'which': 2}"
      ]
     },
     "execution_count": 33,
     "metadata": {},
     "output_type": "execute_result"
    }
   ],
   "source": [
    "sentence = 'In computing, a hash table hash map is a data structure which implements an associative array abstract data type, a structure that can map keys to values. A hash table uses a hash function to compute an index into an array of buckets or slots from which the desired value can be found'\n",
    "\n",
    "# loop over this \n",
    "# add a key value pair with the value being a counter\n",
    "# add a new key with value 1 for every new word\n",
    "\n",
    "#need an empty dictionary {}\n",
    "\n",
    "# I forgot to sort it originally. This is what I had at first:\n",
    "\n",
    "def countTheWords(a_list):\n",
    "    library = {}\n",
    "    split_list = a_list.split()\n",
    "    for words in split_list:\n",
    "        if words not in library.keys(): \n",
    "            library[words] = 1\n",
    "        else:\n",
    "            library[words] += 1\n",
    "    return library\n",
    "\n",
    "# print(countTheWords(sentence))\n",
    "\n",
    "def countTheWords(a_list):\n",
    "    library = {}\n",
    "    split_list = a_list.split()\n",
    "    strip_list = sorted([words.lower().strip(\",\") for words in split_list])\n",
    "    for words in strip_list:\n",
    "        if words not in library.keys(): \n",
    "            library[words] = 1\n",
    "        else:\n",
    "            library[words] += 1\n",
    "    return library\n",
    "\n",
    "countTheWords(sentence)\n"
   ]
  },
  {
   "cell_type": "markdown",
   "metadata": {},
   "source": [
    "## Exercise #3\n",
    "\n",
    "Write a program to implement a Linear Search Algorithm.\n",
    "#### Hint: Linear Searching will require searching a list for a given number. "
   ]
  },
  {
   "cell_type": "code",
   "execution_count": 17,
   "metadata": {},
   "outputs": [
    {
     "data": {
      "text/plain": [
       "'Uh oh...7 is not [11, 25, 18, 13, 19, 4, 23, 19, 8, 22].'"
      ]
     },
     "execution_count": 17,
     "metadata": {},
     "output_type": "execute_result"
    }
   ],
   "source": [
    "from random import randint\n",
    "\n",
    "nums = [randint(1,25) for i in range(10)]\n",
    "\n",
    "def linearSearch(list_of_nums):\n",
    "    #need a target, if list_of_nums[i] = target, print\n",
    "    target = randint(1,25)\n",
    "    for i in range(len(list_of_nums)-1):\n",
    "        if target != list_of_nums[i]:\n",
    "            i += 1\n",
    "        elif target == list_of_nums[i]:\n",
    "            return f'Success!! {target} is in {list_of_nums} at index {i}.'\n",
    "    return f'Uh oh...{target} is not {list_of_nums}.'\n",
    "    \n",
    "linearSearch(nums)"
   ]
  },
  {
   "cell_type": "code",
   "execution_count": 43,
   "metadata": {},
   "outputs": [
    {
     "data": {
      "text/plain": [
       "'Power'"
      ]
     },
     "execution_count": 43,
     "metadata": {},
     "output_type": "execute_result"
    }
   ],
   "source": [
    "street_1 = ['T','F', 'T','f','T']\n",
    "\n",
    "def outages(l_street):\n",
    "    counter = 0\n",
    "    for light in l_street:\n",
    "        if light.lower() == 'F':\n",
    "            counter += 1\n",
    "            if counter >= 2:\n",
    "                return 'Outage'\n",
    "    return 'Power'\n",
    "    \n",
    "outages(street_1)"
   ]
  },
  {
   "cell_type": "code",
   "execution_count": null,
   "metadata": {},
   "outputs": [],
   "source": []
  }
 ],
 "metadata": {
  "kernelspec": {
   "display_name": "Python 3",
   "language": "python",
   "name": "python3"
  },
  "language_info": {
   "codemirror_mode": {
    "name": "ipython",
    "version": 3
   },
   "file_extension": ".py",
   "mimetype": "text/x-python",
   "name": "python",
   "nbconvert_exporter": "python",
   "pygments_lexer": "ipython3",
   "version": "3.8.8"
  }
 },
 "nbformat": 4,
 "nbformat_minor": 2
}
